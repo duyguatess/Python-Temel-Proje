{
 "cells": [
  {
   "cell_type": "code",
   "execution_count": 17,
   "id": "ab7e7d90-5302-4b2c-ba38-cc890c6c2cb1",
   "metadata": {},
   "outputs": [
    {
     "name": "stdout",
     "output_type": "stream",
     "text": [
      "[1, 'a', 'cat', 2, 3, 'dog', 4, 5]\n"
     ]
    }
   ],
   "source": [
    "#1\n",
    "liste = [[1,'a',['cat'],2],[[[3]],'dog'],4,5]\n",
    "flat_list=[]\n",
    "def flatten_list(x):\n",
    "    for i in x:\n",
    "        if type(i)==list:\n",
    "            flatten_list(i)\n",
    "        else:\n",
    "            flat_list.append(i)\n",
    "    return flat_list\n",
    "flatten_list(liste)\n",
    "print(flat_list)\n"
   ]
  },
  {
   "cell_type": "code",
   "execution_count": 19,
   "id": "679b8053-5b1e-429c-b607-8cb16125ae33",
   "metadata": {},
   "outputs": [
    {
     "name": "stdout",
     "output_type": "stream",
     "text": [
      "[[7, 6, 5], [4, 3], [2, 1]]\n"
     ]
    }
   ],
   "source": [
    "#2\n",
    "liste=[[1,2],[3,4],[5,6,7]]\n",
    "liste=liste[::-1]\n",
    "for i in range(len(liste)):\n",
    "    (liste[i])=(liste[i])[::-1]\n",
    "print(liste)\n",
    "    "
   ]
  },
  {
   "cell_type": "code",
   "execution_count": null,
   "id": "4129fcb5-8445-4e36-81b8-fa6a292661ce",
   "metadata": {},
   "outputs": [],
   "source": []
  }
 ],
 "metadata": {
  "kernelspec": {
   "display_name": "Python 3 (ipykernel)",
   "language": "python",
   "name": "python3"
  },
  "language_info": {
   "codemirror_mode": {
    "name": "ipython",
    "version": 3
   },
   "file_extension": ".py",
   "mimetype": "text/x-python",
   "name": "python",
   "nbconvert_exporter": "python",
   "pygments_lexer": "ipython3",
   "version": "3.10.6"
  }
 },
 "nbformat": 4,
 "nbformat_minor": 5
}
